{
 "cells": [
  {
   "cell_type": "markdown",
   "source": [
    "Sample script to add images from a 4chan board."
   ],
   "metadata": {
    "collapsed": false
   },
   "id": "e8f3838a8a1b6497"
  },
  {
   "cell_type": "code",
   "outputs": [],
   "source": [
    "import requests\n",
    "\n",
    "def upload_images_from_thread(thread_id, board):\n",
    "    # Construct the thread URL\n",
    "    thread_url = f\"https://a.4cdn.org/{board}/thread/{thread_id}.json\"\n",
    "    \n",
    "    try:\n",
    "        # Fetch the thread JSON\n",
    "        response = requests.get(thread_url)\n",
    "        response.raise_for_status()\n",
    "        thread_data = response.json()\n",
    "\n",
    "        # Iterate over each post in the thread\n",
    "        for post in thread_data.get('posts', []):\n",
    "            if 'tim' in post and 'ext' in post:\n",
    "                # Construct the image URL\n",
    "                image_url = f\"https://i.4cdn.org/{board}/{post['tim']}{post['ext']}\"\n",
    "\n",
    "                # Prepare data for the POST request\n",
    "                data = {\n",
    "                    'image_url': image_url\n",
    "                }\n",
    "\n",
    "                # Upload the image URL to the API\n",
    "                response = requests.post(\"http://localhost:8080/\", data=data)\n",
    "\n",
    "                if response.status_code == 200:\n",
    "                    print(f\"Uploaded {image_url} successfully.\")\n",
    "                else:\n",
    "                    print(f\"Failed to upload {image_url}. Status code: {response.status_code}\")\n",
    "\n",
    "    except requests.exceptions.RequestException as e:\n",
    "        print(f\"Error fetching thread: {e}\")\n",
    "\n",
    "# Example usage:\n",
    "# upload_images_from_thread(570368, 'po')"
   ],
   "metadata": {
    "collapsed": false
   },
   "id": "af4e00c62430aaa4"
  }
 ],
 "metadata": {
  "kernelspec": {
   "display_name": "Python 3",
   "language": "python",
   "name": "python3"
  },
  "language_info": {
   "codemirror_mode": {
    "name": "ipython",
    "version": 2
   },
   "file_extension": ".py",
   "mimetype": "text/x-python",
   "name": "python",
   "nbconvert_exporter": "python",
   "pygments_lexer": "ipython2",
   "version": "2.7.6"
  }
 },
 "nbformat": 4,
 "nbformat_minor": 5
}
