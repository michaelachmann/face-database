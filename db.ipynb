{
 "cells": [
  {
   "cell_type": "code",
   "outputs": [
    {
     "name": "stdout",
     "output_type": "stream",
     "text": [
      "Table images dropped.\n",
      "Table persons dropped.\n",
      "Table face_embeddings dropped.\n"
     ]
    }
   ],
   "source": [
    "import psycopg2\n",
    "from psycopg2 import sql\n",
    "\n",
    "# Database connection parameters\n",
    "conn = psycopg2.connect(\"dbname=face_recognition user=myuser password=mypassword host=localhost\")\n",
    "\n",
    "# Create a cursor object to interact with the database\n",
    "cur = conn.cursor()\n",
    "\n",
    "# Get the list of all tables in the current schema\n",
    "cur.execute(\"\"\"\n",
    "    SELECT table_name\n",
    "    FROM information_schema.tables\n",
    "    WHERE table_schema = 'public'\n",
    "    AND table_type = 'BASE TABLE';\n",
    "\"\"\")\n",
    "tables = cur.fetchall()\n",
    "\n",
    "# Drop each table\n",
    "for table_name in tables:\n",
    "    cur.execute(sql.SQL(\"DROP TABLE IF EXISTS {} CASCADE\").format(sql.Identifier(table_name[0])))\n",
    "    print(f\"Table {table_name[0]} dropped.\")\n",
    "\n",
    "# Commit the changes to the database\n",
    "conn.commit()\n",
    "\n",
    "# Close the cursor and connection\n",
    "cur.close()\n",
    "conn.close()"
   ],
   "metadata": {
    "collapsed": false,
    "ExecuteTime": {
     "end_time": "2024-08-19T09:42:42.275244Z",
     "start_time": "2024-08-19T09:42:42.218616Z"
    }
   },
   "id": "44957d00890845fd",
   "execution_count": 1
  },
  {
   "cell_type": "code",
   "outputs": [],
   "source": [],
   "metadata": {
    "collapsed": false
   },
   "id": "e47ab271c71bf7ce"
  }
 ],
 "metadata": {
  "kernelspec": {
   "display_name": "Python 3",
   "language": "python",
   "name": "python3"
  },
  "language_info": {
   "codemirror_mode": {
    "name": "ipython",
    "version": 2
   },
   "file_extension": ".py",
   "mimetype": "text/x-python",
   "name": "python",
   "nbconvert_exporter": "python",
   "pygments_lexer": "ipython2",
   "version": "2.7.6"
  }
 },
 "nbformat": 4,
 "nbformat_minor": 5
}
